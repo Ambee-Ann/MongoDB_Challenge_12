{
 "cells": [
  {
   "cell_type": "markdown",
   "id": "9a57c4c6",
   "metadata": {},
   "source": [
    "# Eat Safe, Love"
   ]
  },
  {
   "cell_type": "markdown",
   "id": "064ef857",
   "metadata": {},
   "source": [
    "## Notebook Set Up"
   ]
  },
  {
   "cell_type": "code",
   "execution_count": 59,
   "id": "3ecdd008",
   "metadata": {},
   "outputs": [],
   "source": [
    "# Import dependencies\n",
    "from pymongo import MongoClient\n",
    "from pprint import pprint\n",
    "import pandas as pd\n",
    "from bson import SON\n",
    "\n"
   ]
  },
  {
   "cell_type": "code",
   "execution_count": 60,
   "id": "59390c4a",
   "metadata": {},
   "outputs": [],
   "source": [
    "# Create an instance of MongoClient\n",
    "mongo = MongoClient(port=27017)"
   ]
  },
  {
   "cell_type": "code",
   "execution_count": 61,
   "id": "71e373c1",
   "metadata": {},
   "outputs": [],
   "source": [
    "# assign the uk_food database to a variable name\n",
    "db = mongo['uk_food']"
   ]
  },
  {
   "cell_type": "code",
   "execution_count": 62,
   "id": "18ab463c",
   "metadata": {},
   "outputs": [
    {
     "name": "stdout",
     "output_type": "stream",
     "text": [
      "['customer_list', 'establishments']\n"
     ]
    }
   ],
   "source": [
    "# review the collections in our database\n",
    "print(db.list_collection_names())"
   ]
  },
  {
   "cell_type": "code",
   "execution_count": 63,
   "id": "11c9f11b",
   "metadata": {},
   "outputs": [],
   "source": [
    "# assign the collection to a variable\n",
    "establishments = db['establishments']"
   ]
  },
  {
   "cell_type": "markdown",
   "id": "d5671434",
   "metadata": {},
   "source": [
    "## Part 3: Exploratory Analysis\n",
    "Unless otherwise stated, for each question: \n",
    "* Use `count_documents` to display the number of documents contained in the result.\n",
    "* Display the first document in the results using `pprint`.\n",
    "* Convert the result to a Pandas DataFrame, print the number of rows in the DataFrame, and display the first 10 rows."
   ]
  },
  {
   "cell_type": "markdown",
   "id": "314bd884",
   "metadata": {},
   "source": [
    "### 1. Which establishments have a hygiene score equal to 20?"
   ]
  },
  {
   "cell_type": "code",
   "execution_count": 64,
   "id": "c2da7648",
   "metadata": {},
   "outputs": [
    {
     "name": "stdout",
     "output_type": "stream",
     "text": [
      "Number of establishments with a hygiene score of 20: 41\n"
     ]
    }
   ],
   "source": [
    "query_1 = {\"scores.Hygiene\": 20}\n",
    "count = establishments.count_documents(query_1)\n",
    "print(\"Number of establishments with a hygiene score of 20:\", count)\n"
   ]
  },
  {
   "cell_type": "code",
   "execution_count": 65,
   "id": "a6e5cece",
   "metadata": {},
   "outputs": [
    {
     "name": "stdout",
     "output_type": "stream",
     "text": [
      "   count_documents\n",
      "0               41\n",
      "   count_documents\n",
      "0               41\n"
     ]
    }
   ],
   "source": [
    "# Convert the results to a Pandas DataFrame\n",
    "df = pd.DataFrame({\"count_documents\": [count]})\n",
    "\n",
    "# Print the number of rows in the DataFrame\n",
    "print(df)\n",
    "\n",
    "# Display the first 10 rows of the DataFrame\n",
    "print(df.head(10))\n"
   ]
  },
  {
   "cell_type": "markdown",
   "id": "0ef4395a",
   "metadata": {},
   "source": [
    "### 2. Which establishments in London have a `RatingValue` greater than or equal to 4?"
   ]
  },
  {
   "cell_type": "code",
   "execution_count": 66,
   "id": "93c63829",
   "metadata": {},
   "outputs": [],
   "source": [
    "# Find the establishments with London as the Local Authority and has a RatingValue greater than or equal to 4.\n",
    "query_2 = {\"LocalAuthorityName\": \"London\", \"RatingValue\": {\"$gte\": 4}}\n",
    "results_2 = establishments.find(query_2)\n",
    "\n",
    "# Print the results\n",
    "for result in results_2:\n",
    "    print(result)\n"
   ]
  },
  {
   "attachments": {},
   "cell_type": "markdown",
   "id": "4e570caf",
   "metadata": {},
   "source": [
    "### 3. What are the top 5 establishments with a `RatingValue` rating value of 5, sorted by lowest hygiene score, nearest to the new restaurant added, \"Penang Flavours\"?"
   ]
  },
  {
   "cell_type": "code",
   "execution_count": 67,
   "id": "7f599f3d",
   "metadata": {},
   "outputs": [],
   "source": [
    "# Search within 0.01 degree on either side of the latitude and longitude.\n",
    "# Rating value must equal 5\n",
    "# Sort by hygiene score\n",
    "\n",
    "#degree_search = 0.01\n",
    "#latitude = \n",
    "#longitude = \n",
    "\n",
    "#query = \n",
    "#sort =  \n",
    "\n",
    "# Find the top 5 establishments with a `RatingValue` of 5, sorted by lowest hygiene score, nearest to the new restaurant\n",
    "#query_3 = {\"RatingValue\": 5}\n",
    "#sort = [(\"Scores.Hygiene\", pymongo.ASCENDING)]\n",
    "#cursor = establishments.find(query, sort=sort).limit(5)\n",
    "\n",
    "# Iterate over the results and print them\n",
    "#for result in cursor:\n",
    "    # Calculate the distance between the new restaurant and the current establishment\n",
    " #   distance = geojson.distance(new_restaurant_geometry, result[\"location\"])\n",
    "\n",
    "# Print the results\n"
   ]
  },
  {
   "cell_type": "code",
   "execution_count": 68,
   "id": "a6ad16f7",
   "metadata": {},
   "outputs": [],
   "source": [
    "# Convert result to Pandas DataFrame\n"
   ]
  },
  {
   "cell_type": "markdown",
   "id": "67281254",
   "metadata": {},
   "source": [
    "### 4. How many establishments in each Local Authority area have a hygiene score of 0?"
   ]
  },
  {
   "cell_type": "code",
   "execution_count": 71,
   "id": "4eeb227e",
   "metadata": {},
   "outputs": [
    {
     "ename": "NameError",
     "evalue": "name 'pymongo' is not defined",
     "output_type": "error",
     "traceback": [
      "\u001b[1;31m---------------------------------------------------------------------------\u001b[0m",
      "\u001b[1;31mNameError\u001b[0m                                 Traceback (most recent call last)",
      "\u001b[1;32mc:\\Users\\clutt\\OneDrive\\Desktop\\GWU_Repo\\2023_GWU_Data_Analytics\\Challenges\\Module_12\\NoSQL_analysis_working.ipynb Cell 18\u001b[0m line \u001b[0;36m9\n\u001b[0;32m      <a href='vscode-notebook-cell:/c%3A/Users/clutt/OneDrive/Desktop/GWU_Repo/2023_GWU_Data_Analytics/Challenges/Module_12/NoSQL_analysis_working.ipynb#X24sZmlsZQ%3D%3D?line=0'>1</a>\u001b[0m \u001b[39m# Create a pipeline that: \u001b[39;00m\n\u001b[0;32m      <a href='vscode-notebook-cell:/c%3A/Users/clutt/OneDrive/Desktop/GWU_Repo/2023_GWU_Data_Analytics/Challenges/Module_12/NoSQL_analysis_working.ipynb#X24sZmlsZQ%3D%3D?line=1'>2</a>\u001b[0m \u001b[39m# 1. Matches establishments with a hygiene score of 0\u001b[39;00m\n\u001b[0;32m      <a href='vscode-notebook-cell:/c%3A/Users/clutt/OneDrive/Desktop/GWU_Repo/2023_GWU_Data_Analytics/Challenges/Module_12/NoSQL_analysis_working.ipynb#X24sZmlsZQ%3D%3D?line=2'>3</a>\u001b[0m \u001b[39m# 2. Groups the matches by Local Authority\u001b[39;00m\n\u001b[0;32m      <a href='vscode-notebook-cell:/c%3A/Users/clutt/OneDrive/Desktop/GWU_Repo/2023_GWU_Data_Analytics/Challenges/Module_12/NoSQL_analysis_working.ipynb#X24sZmlsZQ%3D%3D?line=3'>4</a>\u001b[0m \u001b[39m# 3. Sorts the matches from highest to lowest\u001b[39;00m\n\u001b[0;32m      <a href='vscode-notebook-cell:/c%3A/Users/clutt/OneDrive/Desktop/GWU_Repo/2023_GWU_Data_Analytics/Challenges/Module_12/NoSQL_analysis_working.ipynb#X24sZmlsZQ%3D%3D?line=5'>6</a>\u001b[0m pipeline \u001b[39m=\u001b[39m [\n\u001b[0;32m      <a href='vscode-notebook-cell:/c%3A/Users/clutt/OneDrive/Desktop/GWU_Repo/2023_GWU_Data_Analytics/Challenges/Module_12/NoSQL_analysis_working.ipynb#X24sZmlsZQ%3D%3D?line=6'>7</a>\u001b[0m     {\u001b[39m\"\u001b[39m\u001b[39m$match\u001b[39m\u001b[39m\"\u001b[39m: {\u001b[39m\"\u001b[39m\u001b[39mScores.Hygiene\u001b[39m\u001b[39m\"\u001b[39m: \u001b[39m0\u001b[39m}},\n\u001b[0;32m      <a href='vscode-notebook-cell:/c%3A/Users/clutt/OneDrive/Desktop/GWU_Repo/2023_GWU_Data_Analytics/Challenges/Module_12/NoSQL_analysis_working.ipynb#X24sZmlsZQ%3D%3D?line=7'>8</a>\u001b[0m     {\u001b[39m\"\u001b[39m\u001b[39m$group\u001b[39m\u001b[39m\"\u001b[39m: {\u001b[39m\"\u001b[39m\u001b[39m_id\u001b[39m\u001b[39m\"\u001b[39m: \u001b[39m\"\u001b[39m\u001b[39m$LocalAuthorityName\u001b[39m\u001b[39m\"\u001b[39m, \u001b[39m\"\u001b[39m\u001b[39mcount\u001b[39m\u001b[39m\"\u001b[39m: {\u001b[39m\"\u001b[39m\u001b[39m$sum\u001b[39m\u001b[39m\"\u001b[39m: \u001b[39m1\u001b[39m}}},\n\u001b[1;32m----> <a href='vscode-notebook-cell:/c%3A/Users/clutt/OneDrive/Desktop/GWU_Repo/2023_GWU_Data_Analytics/Challenges/Module_12/NoSQL_analysis_working.ipynb#X24sZmlsZQ%3D%3D?line=8'>9</a>\u001b[0m     {\u001b[39m\"\u001b[39m\u001b[39m$sort\u001b[39m\u001b[39m\"\u001b[39m: SON([(\u001b[39m\"\u001b[39m\u001b[39mcount\u001b[39m\u001b[39m\"\u001b[39m, pymongo\u001b[39m.\u001b[39mDESCENDING)])},\n\u001b[0;32m     <a href='vscode-notebook-cell:/c%3A/Users/clutt/OneDrive/Desktop/GWU_Repo/2023_GWU_Data_Analytics/Challenges/Module_12/NoSQL_analysis_working.ipynb#X24sZmlsZQ%3D%3D?line=9'>10</a>\u001b[0m ]\n\u001b[0;32m     <a href='vscode-notebook-cell:/c%3A/Users/clutt/OneDrive/Desktop/GWU_Repo/2023_GWU_Data_Analytics/Challenges/Module_12/NoSQL_analysis_working.ipynb#X24sZmlsZQ%3D%3D?line=11'>12</a>\u001b[0m \u001b[39m# Execute the pipeline\u001b[39;00m\n\u001b[0;32m     <a href='vscode-notebook-cell:/c%3A/Users/clutt/OneDrive/Desktop/GWU_Repo/2023_GWU_Data_Analytics/Challenges/Module_12/NoSQL_analysis_working.ipynb#X24sZmlsZQ%3D%3D?line=12'>13</a>\u001b[0m results \u001b[39m=\u001b[39m establishments\u001b[39m.\u001b[39maggregate(pipeline)\n",
      "\u001b[1;31mNameError\u001b[0m: name 'pymongo' is not defined"
     ]
    }
   ],
   "source": [
    "# Create a pipeline that: \n",
    "# 1. Matches establishments with a hygiene score of 0\n",
    "# 2. Groups the matches by Local Authority\n",
    "# 3. Sorts the matches from highest to lowest\n",
    "\n",
    "# Build the aggregation pipeline\n",
    "# Write a match query to find only the documents about artifacts that\n",
    "# have a classification where \"Wood\" is the value.\n",
    "match_query = {'$match': {'classification': {'$regex': \"Wood\"}}}\n",
    "\n",
    "# Write an aggregation query that counts the number of documents and finds the maximum height,\n",
    "# grouped by \"classification\"\n",
    "group_query = {'$group': {'_id': \"$classification\", \n",
    "                          'count': { '$sum': 1 },\n",
    "                          'max_height': { '$max': '$measurements.elementMeasurements.Height' }}}\n",
    "\n",
    "# Create a dictionary that will allow the pipeline to sort by count in descending order, \n",
    "# then sort by classification in alphabetical order\n",
    "sort_values = {'$sort': { 'count': -1, '_id': 1 }}\n",
    "\n",
    "# Put the pipeline together\n",
    "pipeline = [match_query, group_query, sort_values]\n"
   ]
  },
  {
   "cell_type": "code",
   "execution_count": 70,
   "id": "9da88bef",
   "metadata": {},
   "outputs": [
    {
     "ename": "NameError",
     "evalue": "name 'pymongo' is not defined",
     "output_type": "error",
     "traceback": [
      "\u001b[1;31m---------------------------------------------------------------------------\u001b[0m",
      "\u001b[1;31mNameError\u001b[0m                                 Traceback (most recent call last)",
      "\u001b[1;32mc:\\Users\\clutt\\OneDrive\\Desktop\\GWU_Repo\\2023_GWU_Data_Analytics\\Challenges\\Module_12\\NoSQL_analysis_working.ipynb Cell 19\u001b[0m line \u001b[0;36m5\n\u001b[0;32m      <a href='vscode-notebook-cell:/c%3A/Users/clutt/OneDrive/Desktop/GWU_Repo/2023_GWU_Data_Analytics/Challenges/Module_12/NoSQL_analysis_working.ipynb#X26sZmlsZQ%3D%3D?line=0'>1</a>\u001b[0m \u001b[39m# Define the pipeline\u001b[39;00m\n\u001b[0;32m      <a href='vscode-notebook-cell:/c%3A/Users/clutt/OneDrive/Desktop/GWU_Repo/2023_GWU_Data_Analytics/Challenges/Module_12/NoSQL_analysis_working.ipynb#X26sZmlsZQ%3D%3D?line=1'>2</a>\u001b[0m pipeline \u001b[39m=\u001b[39m [\n\u001b[0;32m      <a href='vscode-notebook-cell:/c%3A/Users/clutt/OneDrive/Desktop/GWU_Repo/2023_GWU_Data_Analytics/Challenges/Module_12/NoSQL_analysis_working.ipynb#X26sZmlsZQ%3D%3D?line=2'>3</a>\u001b[0m     {\u001b[39m\"\u001b[39m\u001b[39m$match\u001b[39m\u001b[39m\"\u001b[39m: {\u001b[39m\"\u001b[39m\u001b[39mScores.Hygiene\u001b[39m\u001b[39m\"\u001b[39m: \u001b[39m0\u001b[39m}},\n\u001b[0;32m      <a href='vscode-notebook-cell:/c%3A/Users/clutt/OneDrive/Desktop/GWU_Repo/2023_GWU_Data_Analytics/Challenges/Module_12/NoSQL_analysis_working.ipynb#X26sZmlsZQ%3D%3D?line=3'>4</a>\u001b[0m     {\u001b[39m\"\u001b[39m\u001b[39m$group\u001b[39m\u001b[39m\"\u001b[39m: {\u001b[39m\"\u001b[39m\u001b[39m_id\u001b[39m\u001b[39m\"\u001b[39m: \u001b[39m\"\u001b[39m\u001b[39m$LocalAuthorityName\u001b[39m\u001b[39m\"\u001b[39m, \u001b[39m\"\u001b[39m\u001b[39mcount\u001b[39m\u001b[39m\"\u001b[39m: {\u001b[39m\"\u001b[39m\u001b[39m$sum\u001b[39m\u001b[39m\"\u001b[39m: \u001b[39m1\u001b[39m}}},\n\u001b[1;32m----> <a href='vscode-notebook-cell:/c%3A/Users/clutt/OneDrive/Desktop/GWU_Repo/2023_GWU_Data_Analytics/Challenges/Module_12/NoSQL_analysis_working.ipynb#X26sZmlsZQ%3D%3D?line=4'>5</a>\u001b[0m     {\u001b[39m\"\u001b[39m\u001b[39m$sort\u001b[39m\u001b[39m\"\u001b[39m: SON([(\u001b[39m\"\u001b[39m\u001b[39mcount\u001b[39m\u001b[39m\"\u001b[39m, pymongo\u001b[39m.\u001b[39mDESCENDING)])},\n\u001b[0;32m      <a href='vscode-notebook-cell:/c%3A/Users/clutt/OneDrive/Desktop/GWU_Repo/2023_GWU_Data_Analytics/Challenges/Module_12/NoSQL_analysis_working.ipynb#X26sZmlsZQ%3D%3D?line=5'>6</a>\u001b[0m ]\n\u001b[0;32m      <a href='vscode-notebook-cell:/c%3A/Users/clutt/OneDrive/Desktop/GWU_Repo/2023_GWU_Data_Analytics/Challenges/Module_12/NoSQL_analysis_working.ipynb#X26sZmlsZQ%3D%3D?line=7'>8</a>\u001b[0m \u001b[39m# Execute the pipeline\u001b[39;00m\n\u001b[0;32m      <a href='vscode-notebook-cell:/c%3A/Users/clutt/OneDrive/Desktop/GWU_Repo/2023_GWU_Data_Analytics/Challenges/Module_12/NoSQL_analysis_working.ipynb#X26sZmlsZQ%3D%3D?line=8'>9</a>\u001b[0m results \u001b[39m=\u001b[39m establishments\u001b[39m.\u001b[39maggregate(pipeline)\n",
      "\u001b[1;31mNameError\u001b[0m: name 'pymongo' is not defined"
     ]
    }
   ],
   "source": [
    "# Define the pipeline\n",
    "pipeline = [\n",
    "    {\"$match\": {\"Scores.Hygiene\": 0}},\n",
    "    {\"$group\": {\"_id\": \"$LocalAuthorityName\", \"count\": {\"$sum\": 1}}},\n",
    "    {\"$sort\": SON([(\"count\", pymongo.DESCENDING)])},\n",
    "]\n",
    "\n",
    "# Execute the pipeline\n",
    "results = establishments.aggregate(pipeline)\n",
    "\n",
    "# Print the number of documents in the result\n",
    "print(\"Number of documents:\", results.count())\n",
    "\n",
    "# Print the first 10 results\n",
    "for result in results[:10]:\n",
    "    print(result)\n",
    "    \n",
    "    \n",
    "    # Create a query that:\n",
    "# finds customers with a \"Nissan\" or \"Hyundai\"\n",
    "# sorts in descending order by car_year, then ascending order by last_service\n",
    "# limits the results to the first 5\n",
    "query = {'car_make': {'$in': [\"Nissan\", \"Hyundai\"]}}\n",
    "sort = [('car_year', -1), ('last_service', 1)]\n",
    "limit = 5\n",
    "\n",
    "# Pretty print the results\n",
    "pprint(list(establishments.find(query).sort(sort).limit(limit)))"
   ]
  },
  {
   "cell_type": "code",
   "execution_count": null,
   "id": "d8aab364",
   "metadata": {},
   "outputs": [],
   "source": [
    "# Convert the result to a Pandas DataFrame\n",
    "\n",
    "# Display the number of rows in the DataFrame\n",
    "\n",
    "# Display the first 10 rows of the DataFrame\n"
   ]
  }
 ],
 "metadata": {
  "kernelspec": {
   "display_name": "Python 3 (ipykernel)",
   "language": "python",
   "name": "python3"
  },
  "language_info": {
   "codemirror_mode": {
    "name": "ipython",
    "version": 3
   },
   "file_extension": ".py",
   "mimetype": "text/x-python",
   "name": "python",
   "nbconvert_exporter": "python",
   "pygments_lexer": "ipython3",
   "version": "3.10.12"
  }
 },
 "nbformat": 4,
 "nbformat_minor": 5
}
