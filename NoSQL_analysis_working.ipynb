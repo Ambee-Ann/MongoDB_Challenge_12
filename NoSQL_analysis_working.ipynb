{
 "cells": [
  {
   "cell_type": "markdown",
   "id": "9a57c4c6",
   "metadata": {},
   "source": [
    "# Eat Safe, Love"
   ]
  },
  {
   "cell_type": "markdown",
   "id": "064ef857",
   "metadata": {},
   "source": [
    "## Notebook Set Up"
   ]
  },
  {
   "cell_type": "code",
   "execution_count": 55,
   "id": "3ecdd008",
   "metadata": {},
   "outputs": [],
   "source": [
    "# Import dependencies\n",
    "from pymongo import MongoClient\n",
    "from pprint import pprint\n",
    "import pandas as pd\n"
   ]
  },
  {
   "cell_type": "code",
   "execution_count": 56,
   "id": "59390c4a",
   "metadata": {},
   "outputs": [],
   "source": [
    "# Create an instance of MongoClient\n",
    "mongo = MongoClient(port=27017)"
   ]
  },
  {
   "cell_type": "code",
   "execution_count": 57,
   "id": "71e373c1",
   "metadata": {},
   "outputs": [],
   "source": [
    "# assign the uk_food database to a variable name\n",
    "db = mongo['uk_food']"
   ]
  },
  {
   "cell_type": "code",
   "execution_count": 58,
   "id": "18ab463c",
   "metadata": {},
   "outputs": [
    {
     "name": "stdout",
     "output_type": "stream",
     "text": [
      "['customer_list', 'establishments']\n"
     ]
    }
   ],
   "source": [
    "# review the collections in our database\n",
    "print(db.list_collection_names())"
   ]
  },
  {
   "cell_type": "code",
   "execution_count": 59,
   "id": "11c9f11b",
   "metadata": {},
   "outputs": [],
   "source": [
    "# assign the collection to a variable\n",
    "establishments = db['establishments']"
   ]
  },
  {
   "cell_type": "markdown",
   "id": "d5671434",
   "metadata": {},
   "source": [
    "## Part 3: Exploratory Analysis\n",
    "Unless otherwise stated, for each question: \n",
    "* Use `count_documents` to display the number of documents contained in the result.\n",
    "* Display the first document in the results using `pprint`.\n",
    "* Convert the result to a Pandas DataFrame, print the number of rows in the DataFrame, and display the first 10 rows."
   ]
  },
  {
   "cell_type": "markdown",
   "id": "314bd884",
   "metadata": {},
   "source": [
    "### 1. Which establishments have a hygiene score equal to 20?"
   ]
  },
  {
   "cell_type": "code",
   "execution_count": 60,
   "id": "c2da7648",
   "metadata": {},
   "outputs": [
    {
     "name": "stdout",
     "output_type": "stream",
     "text": [
      "0\n"
     ]
    }
   ],
   "source": [
    "# Find the establishments with a hygiene score of 20\n",
    "hygiene = establishments.count_documents({\"Hygiene\": 20})\n",
    "pprint(hygiene)\n"
   ]
  },
  {
   "cell_type": "code",
   "execution_count": 65,
   "id": "a6e5cece",
   "metadata": {},
   "outputs": [
    {
     "ename": "TypeError",
     "evalue": "filter must be an instance of dict, bson.son.SON, or any other type that inherits from collections.Mapping",
     "output_type": "error",
     "traceback": [
      "\u001b[1;31m---------------------------------------------------------------------------\u001b[0m",
      "\u001b[1;31mTypeError\u001b[0m                                 Traceback (most recent call last)",
      "Cell \u001b[1;32mIn[65], line 2\u001b[0m\n\u001b[0;32m      1\u001b[0m \u001b[39m# Convert the results to a Pandas DataFrame\u001b[39;00m\n\u001b[1;32m----> 2\u001b[0m df \u001b[39m=\u001b[39m pd\u001b[39m.\u001b[39mDataFrame(establishments\u001b[39m.\u001b[39;49mfind(hygiene))\n\u001b[0;32m      4\u001b[0m \u001b[39m# Print the number of rows in the DataFrame\u001b[39;00m\n\u001b[0;32m      5\u001b[0m \u001b[39mprint\u001b[39m(df\u001b[39m.\u001b[39mshape[\u001b[39m0\u001b[39m])\n",
      "File \u001b[1;32mc:\\Users\\clutt\\anaconda3\\envs\\dev\\lib\\site-packages\\pymongo\\collection.py:1532\u001b[0m, in \u001b[0;36mCollection.find\u001b[1;34m(self, *args, **kwargs)\u001b[0m\n\u001b[0;32m   1332\u001b[0m \u001b[39mdef\u001b[39;00m \u001b[39mfind\u001b[39m(\u001b[39mself\u001b[39m, \u001b[39m*\u001b[39margs, \u001b[39m*\u001b[39m\u001b[39m*\u001b[39mkwargs):\n\u001b[0;32m   1333\u001b[0m \u001b[39m    \u001b[39m\u001b[39m\"\"\"Query the database.\u001b[39;00m\n\u001b[0;32m   1334\u001b[0m \n\u001b[0;32m   1335\u001b[0m \u001b[39m    The `filter` argument is a prototype document that all results\u001b[39;00m\n\u001b[1;32m   (...)\u001b[0m\n\u001b[0;32m   1530\u001b[0m \n\u001b[0;32m   1531\u001b[0m \u001b[39m    \"\"\"\u001b[39;00m\n\u001b[1;32m-> 1532\u001b[0m     \u001b[39mreturn\u001b[39;00m Cursor(\u001b[39mself\u001b[39m, \u001b[39m*\u001b[39margs, \u001b[39m*\u001b[39m\u001b[39m*\u001b[39mkwargs)\n",
      "File \u001b[1;32mc:\\Users\\clutt\\anaconda3\\envs\\dev\\lib\\site-packages\\pymongo\\cursor.py:173\u001b[0m, in \u001b[0;36mCursor.__init__\u001b[1;34m(self, collection, filter, projection, skip, limit, no_cursor_timeout, cursor_type, sort, allow_partial_results, oplog_replay, modifiers, batch_size, manipulate, collation, hint, max_scan, max_time_ms, max, min, return_key, show_record_id, snapshot, comment, session, allow_disk_use)\u001b[0m\n\u001b[0;32m    170\u001b[0m \u001b[39mif\u001b[39;00m spec \u001b[39mis\u001b[39;00m \u001b[39mNone\u001b[39;00m:\n\u001b[0;32m    171\u001b[0m     spec \u001b[39m=\u001b[39m {}\n\u001b[1;32m--> 173\u001b[0m validate_is_mapping(\u001b[39m\"\u001b[39;49m\u001b[39mfilter\u001b[39;49m\u001b[39m\"\u001b[39;49m, spec)\n\u001b[0;32m    174\u001b[0m \u001b[39mif\u001b[39;00m \u001b[39mnot\u001b[39;00m \u001b[39misinstance\u001b[39m(skip, \u001b[39mint\u001b[39m):\n\u001b[0;32m    175\u001b[0m     \u001b[39mraise\u001b[39;00m \u001b[39mTypeError\u001b[39;00m(\u001b[39m\"\u001b[39m\u001b[39mskip must be an instance of int\u001b[39m\u001b[39m\"\u001b[39m)\n",
      "File \u001b[1;32mc:\\Users\\clutt\\anaconda3\\envs\\dev\\lib\\site-packages\\pymongo\\common.py:495\u001b[0m, in \u001b[0;36mvalidate_is_mapping\u001b[1;34m(option, value)\u001b[0m\n\u001b[0;32m    493\u001b[0m \u001b[39m\u001b[39m\u001b[39m\"\"\"Validate the type of method arguments that expect a document.\"\"\"\u001b[39;00m\n\u001b[0;32m    494\u001b[0m \u001b[39mif\u001b[39;00m \u001b[39mnot\u001b[39;00m \u001b[39misinstance\u001b[39m(value, abc\u001b[39m.\u001b[39mMapping):\n\u001b[1;32m--> 495\u001b[0m     \u001b[39mraise\u001b[39;00m \u001b[39mTypeError\u001b[39;00m(\u001b[39m\"\u001b[39m\u001b[39m%s\u001b[39;00m\u001b[39m must be an instance of dict, bson.son.SON, or \u001b[39m\u001b[39m\"\u001b[39m\n\u001b[0;32m    496\u001b[0m                     \u001b[39m\"\u001b[39m\u001b[39many other type that inherits from \u001b[39m\u001b[39m\"\u001b[39m\n\u001b[0;32m    497\u001b[0m                     \u001b[39m\"\u001b[39m\u001b[39mcollections.Mapping\u001b[39m\u001b[39m\"\u001b[39m \u001b[39m%\u001b[39m (option,))\n",
      "\u001b[1;31mTypeError\u001b[0m: filter must be an instance of dict, bson.son.SON, or any other type that inherits from collections.Mapping"
     ]
    }
   ],
   "source": [
    "# Convert the results to a Pandas DataFrame\n",
    "df = pd.DataFrame(establishments.find(hygiene))\n",
    "\n",
    "# Print the number of rows in the DataFrame\n",
    "print(df.shape[0])\n",
    "\n",
    "# Display the first 10 rows of the DataFrame\n",
    "print(df.head(10))"
   ]
  },
  {
   "cell_type": "markdown",
   "id": "0ef4395a",
   "metadata": {},
   "source": [
    "### 2. Which establishments in London have a `RatingValue` greater than or equal to 4?"
   ]
  },
  {
   "cell_type": "code",
   "execution_count": 62,
   "id": "93c63829",
   "metadata": {},
   "outputs": [
    {
     "name": "stdout",
     "output_type": "stream",
     "text": [
      "None\n"
     ]
    }
   ],
   "source": [
    "# Find the establishments with London as the Local Authority and has a RatingValue greater than or equal to 4.\n",
    "london = establishments.count_documents({\"LocalAuthorityBusinessID\": \"London\"})\n",
    "pprint(london)\n"
   ]
  },
  {
   "cell_type": "code",
   "execution_count": 63,
   "id": "07e24ccb",
   "metadata": {},
   "outputs": [
    {
     "name": "stdout",
     "output_type": "stream",
     "text": [
      "0\n",
      "Empty DataFrame\n",
      "Columns: []\n",
      "Index: []\n"
     ]
    }
   ],
   "source": []
  },
  {
   "attachments": {},
   "cell_type": "markdown",
   "id": "4e570caf",
   "metadata": {},
   "source": [
    "### 3. What are the top 5 establishments with a `RatingValue` rating value of 5, sorted by lowest hygiene score, nearest to the new restaurant added, \"Penang Flavours\"?"
   ]
  },
  {
   "cell_type": "code",
   "execution_count": 64,
   "id": "7f599f3d",
   "metadata": {},
   "outputs": [
    {
     "ename": "SyntaxError",
     "evalue": "invalid syntax (848538274.py, line 6)",
     "output_type": "error",
     "traceback": [
      "\u001b[1;36m  Cell \u001b[1;32mIn[64], line 6\u001b[1;36m\u001b[0m\n\u001b[1;33m    latitude =\u001b[0m\n\u001b[1;37m               ^\u001b[0m\n\u001b[1;31mSyntaxError\u001b[0m\u001b[1;31m:\u001b[0m invalid syntax\n"
     ]
    }
   ],
   "source": [
    "# Search within 0.01 degree on either side of the latitude and longitude.\n",
    "# Rating value must equal 5\n",
    "# Sort by hygiene score\n",
    "\n",
    "degree_search = 0.01\n",
    "latitude = \n",
    "longitude = \n",
    "\n",
    "query = \n",
    "sort =  \n",
    "\n",
    "# Print the results\n"
   ]
  },
  {
   "cell_type": "code",
   "execution_count": null,
   "id": "a6ad16f7",
   "metadata": {},
   "outputs": [],
   "source": [
    "# Convert result to Pandas DataFrame\n"
   ]
  },
  {
   "cell_type": "markdown",
   "id": "67281254",
   "metadata": {},
   "source": [
    "### 4. How many establishments in each Local Authority area have a hygiene score of 0?"
   ]
  },
  {
   "cell_type": "code",
   "execution_count": null,
   "id": "4eeb227e",
   "metadata": {},
   "outputs": [],
   "source": [
    "# Create a pipeline that: \n",
    "# 1. Matches establishments with a hygiene score of 0\n",
    "# 2. Groups the matches by Local Authority\n",
    "# 3. Sorts the matches from highest to lowest\n",
    "\n",
    "# Print the number of documents in the result\n",
    "\n",
    "# Print the first 10 results\n"
   ]
  },
  {
   "cell_type": "code",
   "execution_count": null,
   "id": "d8aab364",
   "metadata": {},
   "outputs": [],
   "source": [
    "# Convert the result to a Pandas DataFrame\n",
    "\n",
    "# Display the number of rows in the DataFrame\n",
    "\n",
    "# Display the first 10 rows of the DataFrame\n"
   ]
  }
 ],
 "metadata": {
  "kernelspec": {
   "display_name": "Python 3 (ipykernel)",
   "language": "python",
   "name": "python3"
  },
  "language_info": {
   "codemirror_mode": {
    "name": "ipython",
    "version": 3
   },
   "file_extension": ".py",
   "mimetype": "text/x-python",
   "name": "python",
   "nbconvert_exporter": "python",
   "pygments_lexer": "ipython3",
   "version": "3.10.12"
  }
 },
 "nbformat": 4,
 "nbformat_minor": 5
}
